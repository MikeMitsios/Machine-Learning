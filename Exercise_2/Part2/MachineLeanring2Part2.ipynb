{
  "nbformat": 4,
  "nbformat_minor": 0,
  "metadata": {
    "colab": {
      "name": "MachineLeanring2Part2.ipynb",
      "provenance": [],
      "collapsed_sections": []
    },
    "kernelspec": {
      "name": "python3",
      "display_name": "Python 3"
    },
    "language_info": {
      "name": "python"
    }
  },
  "cells": [
    {
      "cell_type": "code",
      "metadata": {
        "colab": {
          "base_uri": "https://localhost:8080/"
        },
        "id": "xuHVGDJwq8Mw",
        "outputId": "2a73e5bc-424c-4dfc-d799-175eebc0adb8"
      },
      "source": [
        "from google.colab import drive\n",
        "drive.mount('/content/drive')"
      ],
      "execution_count": 241,
      "outputs": [
        {
          "output_type": "stream",
          "text": [
            "Drive already mounted at /content/drive; to attempt to forcibly remount, call drive.mount(\"/content/drive\", force_remount=True).\n"
          ],
          "name": "stdout"
        }
      ]
    },
    {
      "cell_type": "markdown",
      "metadata": {
        "id": "oz4nNSrn7IDo"
      },
      "source": [
        "# Read the Data\n",
        "\n",
        "Again I am using my google drive in order to avoid uploading the files."
      ]
    },
    {
      "cell_type": "code",
      "metadata": {
        "colab": {
          "base_uri": "https://localhost:8080/"
        },
        "id": "e4KoWDt6bBgY",
        "outputId": "a46d61f4-02c9-4e20-f60c-2b285bac4902"
      },
      "source": [
        "import numpy as np\n",
        "import pandas as pd\n",
        "from sklearn.preprocessing import StandardScaler\n",
        "\n",
        "#I used my google drive and saved the file into a location, in order to avoid uploading them every time I need them\n",
        "Location = '/content/drive/MyDrive/Machine_Learning/prostate.data'\n",
        "\n",
        "#read the file and pass it into a dataframe, without headers\n",
        "data_df = pd.read_csv(Location,sep=\"\\t\",index_col=0);\n",
        "# data_df=data_df.iloc[: , 1:]\n",
        "#set my Features headers \n",
        "# data_df.columns = [x.strip() for x in data_df.columns]\n",
        "print(data_df.shape)\n",
        "print(data_df.columns.values)\n",
        "print(data_df)\n",
        "\n"
      ],
      "execution_count": 242,
      "outputs": [
        {
          "output_type": "stream",
          "text": [
            "(97, 10)\n",
            "['lcavol' 'lweight' 'age' 'lbph' 'svi' 'lcp' 'gleason' 'pgg45' 'lpsa'\n",
            " 'train']\n",
            "      lcavol   lweight  age      lbph  ...  gleason  pgg45      lpsa  train\n",
            "1  -0.579818  2.769459   50 -1.386294  ...        6      0 -0.430783      T\n",
            "2  -0.994252  3.319626   58 -1.386294  ...        6      0 -0.162519      T\n",
            "3  -0.510826  2.691243   74 -1.386294  ...        7     20 -0.162519      T\n",
            "4  -1.203973  3.282789   58 -1.386294  ...        6      0 -0.162519      T\n",
            "5   0.751416  3.432373   62 -1.386294  ...        6      0  0.371564      T\n",
            "..       ...       ...  ...       ...  ...      ...    ...       ...    ...\n",
            "93  2.830268  3.876396   68 -1.386294  ...        7     60  4.385147      T\n",
            "94  3.821004  3.896909   44 -1.386294  ...        7     40  4.684443      T\n",
            "95  2.907447  3.396185   52 -1.386294  ...        7     10  5.143124      F\n",
            "96  2.882564  3.773910   68  1.558145  ...        7     80  5.477509      T\n",
            "97  3.471966  3.974998   68  0.438255  ...        7     20  5.582932      F\n",
            "\n",
            "[97 rows x 10 columns]\n"
          ],
          "name": "stdout"
        }
      ]
    },
    {
      "cell_type": "markdown",
      "metadata": {
        "id": "VBAbJDmE7c91"
      },
      "source": [
        "Split the train and the test set. I used standard scaler but it is in comments. The results wasn't desirable."
      ]
    },
    {
      "cell_type": "code",
      "metadata": {
        "colab": {
          "base_uri": "https://localhost:8080/"
        },
        "id": "CvK6tqvZuF9c",
        "outputId": "ebac9c10-8c7e-45f6-9583-52039dc6cb81"
      },
      "source": [
        "train_df=data_df[data_df['train']==\"T\"].iloc[: , :-1]\n",
        "test_df=data_df[data_df['train']==\"F\"].iloc[: , :-1]\n",
        "#Standardize my data to have mean=0 and var=1\n",
        "# scaler = StandardScaler()\n",
        "# train_df[:] = scaler.fit_transform(train_df[:])\n",
        "# test_df[:] = scaler.fit_transform(test_df[:])\n",
        "train_df.head(10)\n",
        "test_df.shape[0]\n",
        "print(test_df)\n",
        "print(train_df)"
      ],
      "execution_count": 243,
      "outputs": [
        {
          "output_type": "stream",
          "text": [
            "      lcavol   lweight  age      lbph  svi       lcp  gleason  pgg45      lpsa\n",
            "7   0.737164  3.473518   64  0.615186    0 -1.386294        6      0  0.765468\n",
            "9  -0.776529  3.539509   47 -1.386294    0 -1.386294        6      0  1.047319\n",
            "10  0.223144  3.244544   63 -1.386294    0 -1.386294        6      0  1.047319\n",
            "15  1.205971  3.442019   57 -1.386294    0 -0.430783        7      5  1.398717\n",
            "22  2.059239  3.501043   60  1.474763    0  1.348073        7     20  1.658228\n",
            "25  0.385262  3.667400   69  1.599388    0 -1.386294        6      0  1.731656\n",
            "26  1.446919  3.124565   68  0.300105    0 -1.386294        6      0  1.766442\n",
            "28 -0.400478  3.865979   67  1.816452    0 -1.386294        7     20  1.816452\n",
            "32  0.182322  3.804438   65  1.704748    0 -1.386294        6      0  2.008214\n",
            "34  0.009950  3.267666   54 -1.386294    0 -1.386294        6      0  2.021548\n",
            "36  1.308333  4.119850   64  2.171337    0 -1.386294        7      5  2.085672\n",
            "42  1.442202  3.682610   68 -1.386294    0 -1.386294        7     10  2.307573\n",
            "44  1.771557  3.896909   61 -1.386294    0  0.810930        7      6  2.374906\n",
            "48  1.163151  4.035125   68  1.713798    0 -0.430783        7     40  2.568788\n",
            "49  1.745716  3.498022   43 -1.386294    0 -1.386294        6      0  2.591516\n",
            "50  1.220830  3.568123   70  1.373716    0 -0.798508        6      0  2.591516\n",
            "53  0.512824  3.633631   64  1.492904    0  0.048790        7     70  2.684440\n",
            "54  2.127041  4.121473   68  1.766442    0  1.446919        7     40  2.691243\n",
            "55  3.153590  3.516013   59 -1.386294    0 -1.386294        7      5  2.704711\n",
            "57  0.974560  2.865054   47 -1.386294    0  0.500775        7      4  2.788093\n",
            "62  1.997418  3.719651   63  1.619388    1  1.909542        7     40  2.853592\n",
            "64  2.034706  3.917011   66  2.008214    1  2.110213        7     60  2.882004\n",
            "65  2.073172  3.623007   64 -1.386294    0 -1.386294        6      0  2.882004\n",
            "66  1.458615  3.836221   61  1.321756    0 -0.430783        7     20  2.887590\n",
            "73  1.214913  3.825375   69 -1.386294    1  0.223144        7     20  3.056357\n",
            "74  1.838961  3.236716   60  0.438255    1  1.178655        9     90  3.075006\n",
            "80  2.779440  3.823192   63 -1.386294    0  0.371564        7     50  3.513037\n",
            "84  2.677591  3.838376   65  1.115142    0  1.749200        9     70  3.570940\n",
            "95  2.907447  3.396185   52 -1.386294    1  2.463853        7     10  5.143124\n",
            "97  3.471966  3.974998   68  0.438255    1  2.904165        7     20  5.582932\n",
            "      lcavol   lweight  age      lbph  svi       lcp  gleason  pgg45      lpsa\n",
            "1  -0.579818  2.769459   50 -1.386294    0 -1.386294        6      0 -0.430783\n",
            "2  -0.994252  3.319626   58 -1.386294    0 -1.386294        6      0 -0.162519\n",
            "3  -0.510826  2.691243   74 -1.386294    0 -1.386294        7     20 -0.162519\n",
            "4  -1.203973  3.282789   58 -1.386294    0 -1.386294        6      0 -0.162519\n",
            "5   0.751416  3.432373   62 -1.386294    0 -1.386294        6      0  0.371564\n",
            "..       ...       ...  ...       ...  ...       ...      ...    ...       ...\n",
            "91  3.246491  4.101817   68 -1.386294    0 -1.386294        6      0  4.029806\n",
            "92  2.532903  3.677566   61  1.348073    1 -1.386294        7     15  4.129551\n",
            "93  2.830268  3.876396   68 -1.386294    1  1.321756        7     60  4.385147\n",
            "94  3.821004  3.896909   44 -1.386294    1  2.169054        7     40  4.684443\n",
            "96  2.882564  3.773910   68  1.558145    1  1.558145        7     80  5.477509\n",
            "\n",
            "[67 rows x 9 columns]\n"
          ],
          "name": "stdout"
        }
      ]
    },
    {
      "cell_type": "markdown",
      "metadata": {
        "id": "tm6V_-Kc8DVi"
      },
      "source": [
        "# Score_function\n",
        "A function that calculates the scores of a prediction"
      ]
    },
    {
      "cell_type": "code",
      "metadata": {
        "id": "JG1rop32kW8I"
      },
      "source": [
        "from sklearn.metrics import mean_squared_error,r2_score\n",
        "#a custome function to evaluate my results (RSE_TRAIN,,RSE_TEST,R2_TRAIN,R2_TEST)\n",
        "def scores_(train_df,test_df,my_predictions_test,my_predictions_train):\n",
        "  rse_train=np.sqrt(mean_squared_error(train_df.values[:,-1],my_predictions_train) ) \n",
        "  # print(\"RSE_TRAIN: \",rse_train)\n",
        "\n",
        "  rse_test=np.sqrt(mean_squared_error(test_df.values[:,-1],my_predictions_test) ) \n",
        "  # print(\"RSE_TEST\",rse_test)\n",
        "\n",
        "  r2_train=r2_score(train_df.values[:,-1],my_predictions_train)\n",
        "  # print(\"R2_TRAIN\",r2_train)\n",
        "\n",
        "  r2_test=r2_score(test_df.values[:,-1],my_predictions_test)\n",
        "  # print(\"R2_TEST\",r2_test)\n",
        "  return rse_train,rse_test,r2_train,r2_test"
      ],
      "execution_count": 244,
      "outputs": []
    },
    {
      "cell_type": "markdown",
      "metadata": {
        "id": "KzXdF99F8OlX"
      },
      "source": [
        "#Linear Regression\n",
        "\n",
        "The same logic I followed in the first exercise."
      ]
    },
    {
      "cell_type": "code",
      "metadata": {
        "id": "qXnNjRuWm0Vq",
        "colab": {
          "base_uri": "https://localhost:8080/"
        },
        "outputId": "c6a6bc5e-5ec9-43c4-cfe2-d7439b7bea6d"
      },
      "source": [
        "#Linear Regression\n",
        "from sklearn.model_selection import  train_test_split\n",
        "#fit the model/ calculate the coefficients\n",
        "def my_coeffs_LR(X,y):\n",
        "  b=np.dot(np.dot(np.linalg.inv(np.dot(X.T,X)),X.T),y)\n",
        "  coeffs=b[:-1]\n",
        "  bias=b[-1]\n",
        "  return coeffs,bias\n",
        "#make my predictions\n",
        "def predict_LR(x,coeffs,b):\n",
        "  return np.dot(x,coeffs)+b  \n",
        "\n",
        "#add the last column of 1 for the bias values\n",
        "train_values=np.concatenate([train_df.values[:,:-1],np.ones([train_df.shape[0],1])],axis=1)\n",
        "\n",
        "#take the bias and the coeffs\n",
        "coeffs_LR,bias_LR=my_coeffs_LR(train_values,train_df['lpsa'].values)\n",
        "\n",
        "print(coeffs_1)\n",
        "print(bias_1)\n",
        "#make predictions to both train and test sets\n",
        "my_predictions_train_LR=predict_LR(train_df.values[:,:-1],coeffs_LR,bias_LR) \n",
        "my_predictions_test_LR=predict_LR(test_df.values[:,:-1],coeffs_LR,bias_LR) \n",
        "\n",
        "#take the scores of my predictions\n",
        "my_scores_LR=scores_(train_df,test_df,my_predictions_test_LR,my_predictions_train_LR)\n",
        "print(my_scores_LR)"
      ],
      "execution_count": 245,
      "outputs": [
        {
          "output_type": "stream",
          "text": [
            "[ 0.576747    0.59932053 -0.01867438  0.14538204  0.69836742 -0.19718781\n",
            " -0.0329361   0.0094979 ]\n",
            "0.4939205964603519\n",
            "(0.662721486039448, 0.7219930785731833, 0.6943711796768238, 0.5033798502381974)\n"
          ],
          "name": "stdout"
        }
      ]
    },
    {
      "cell_type": "markdown",
      "metadata": {
        "id": "vNyF7zJP8ivC"
      },
      "source": [
        "#Ridge Regression\n",
        "Here again we calculate the coefficients and then predict. The prediction function is exactly the same as the LR one. I am having a loop to scan all the different λ [0.002,2]. To run the RR with λ=10000 uncomment the line:\n",
        "\n",
        "all_λ=[10000]\n",
        "\n",
        "Results for λ=10000:\n",
        "\n",
        "**lcavol\tlweight\tage\tlbph\tsvi\tlcp\tgleason\tpgg45**\n",
        "\n",
        "0.00532\t0.001683\t0.005339\t0.003041\t0.001238\t0.002592\t0.000265\t0.015206\n",
        "\n",
        "As we can see the coefficients have become a lot smaller. This is happening because,as λ → ∞, the impact of the shrinkage penalty grows, and the ridge regression coefficient estimates will approach zero."
      ]
    },
    {
      "cell_type": "code",
      "metadata": {
        "colab": {
          "base_uri": "https://localhost:8080/",
          "height": 351
        },
        "id": "-Kof8C9dlx3Y",
        "outputId": "43b8107a-3d0f-40c9-82f8-8bd5b3967a5a"
      },
      "source": [
        "#Ridge Regression\n",
        "#calculate the coefficients\n",
        "def my_coeffs(X,y,λ):\n",
        "  i_size=X.shape[1]\n",
        "  I=np.identity(i_size)\n",
        "  #here we have to set the last 1 on our identity matrix to 0\n",
        "  #because the b0 is not included in the penalty term\n",
        "  I[i_size-1,i_size-1]=0\n",
        "  #Using the equation that have calculated on the report\n",
        "  b=np.dot(np.dot(np.linalg.inv(np.dot(X.T,X)+λ*I),X.T),y)\n",
        "  coeffs=b[:-1]\n",
        "  #the last column is the bias\n",
        "  bias=b[-1]\n",
        "  return coeffs,bias\n",
        "#predict the same way as the linear regression\n",
        "def predict(x,coeffs,b):\n",
        "  return np.dot(x,coeffs)+b  \n",
        "\n",
        "#add the last column of ones for the bias estimation\n",
        "train_values=np.concatenate([train_df.values[:,:-1],np.ones([train_df.shape[0],1])],axis=1)\n",
        "\n",
        "#a list to keep all the scores\n",
        "final_scores=[]\n",
        "#a list to keep all the coeffs\n",
        "all_coeffs=[]\n",
        "#a list to keep all the bias\n",
        "all_bias=[]\n",
        "#a list to keep all the λ\n",
        "all_λ=np.arange(0.002, 2.0, 0.004).tolist()\n",
        "# all_λ=[10000]\n",
        "for λ in all_λ:\n",
        "  #calculate coefficients and bias\n",
        "  coeffs_1,bias_1=my_coeffs(train_values,train_df['lpsa'].values,λ)\n",
        "  #keep them\n",
        "  all_bias.append(bias_1)\n",
        "  all_coeffs.append(coeffs_1)\n",
        "  #make predictions for both train and test set\n",
        "  my_predictions_train=predict(train_df.values[:,:-1],coeffs_1,bias_1) \n",
        "  my_predictions_test=predict(test_df.values[:,:-1],coeffs_1,bias_1) \n",
        "  #keep the final scores\n",
        "  final_scores.append(scores_(train_df,test_df,my_predictions_test,my_predictions_train))\n",
        "\n",
        "\n",
        "scores_array = np.array(final_scores)\n",
        "df_scores=pd.DataFrame(scores_array.tolist())\n",
        "df_scores.columns = [\"rse_train\", \"rse_test\", \"r2_train\", \"r2_test\"]\n",
        "#print the λ that has the minimum RSE TEST ERROR\n",
        "opt_λ=all_λ[df_scores['rse_test'].idxmin()]\n",
        "print(\"The λ with the minimum RSE is:\",opt_λ) \n",
        "\n",
        "coeffs_array = np.array(all_coeffs)\n",
        "df_coeffs=pd.DataFrame(coeffs_array.tolist())\n",
        "df_coeffs.columns = train_df.columns.values[:-1]\n",
        "\n",
        "\n",
        "df_coeffs.head(10)"
      ],
      "execution_count": 246,
      "outputs": [
        {
          "output_type": "stream",
          "text": [
            "The λ with the minimum RSE is: 0.354\n"
          ],
          "name": "stdout"
        },
        {
          "output_type": "execute_result",
          "data": {
            "text/html": [
              "<div>\n",
              "<style scoped>\n",
              "    .dataframe tbody tr th:only-of-type {\n",
              "        vertical-align: middle;\n",
              "    }\n",
              "\n",
              "    .dataframe tbody tr th {\n",
              "        vertical-align: top;\n",
              "    }\n",
              "\n",
              "    .dataframe thead th {\n",
              "        text-align: right;\n",
              "    }\n",
              "</style>\n",
              "<table border=\"1\" class=\"dataframe\">\n",
              "  <thead>\n",
              "    <tr style=\"text-align: right;\">\n",
              "      <th></th>\n",
              "      <th>lcavol</th>\n",
              "      <th>lweight</th>\n",
              "      <th>age</th>\n",
              "      <th>lbph</th>\n",
              "      <th>svi</th>\n",
              "      <th>lcp</th>\n",
              "      <th>gleason</th>\n",
              "      <th>pgg45</th>\n",
              "    </tr>\n",
              "  </thead>\n",
              "  <tbody>\n",
              "    <tr>\n",
              "      <th>0</th>\n",
              "      <td>0.576546</td>\n",
              "      <td>0.613935</td>\n",
              "      <td>-0.018999</td>\n",
              "      <td>0.144851</td>\n",
              "      <td>0.736976</td>\n",
              "      <td>-0.206271</td>\n",
              "      <td>-0.029524</td>\n",
              "      <td>0.009465</td>\n",
              "    </tr>\n",
              "    <tr>\n",
              "      <th>1</th>\n",
              "      <td>0.576551</td>\n",
              "      <td>0.613765</td>\n",
              "      <td>-0.018995</td>\n",
              "      <td>0.144857</td>\n",
              "      <td>0.736510</td>\n",
              "      <td>-0.206163</td>\n",
              "      <td>-0.029567</td>\n",
              "      <td>0.009466</td>\n",
              "    </tr>\n",
              "    <tr>\n",
              "      <th>2</th>\n",
              "      <td>0.576555</td>\n",
              "      <td>0.613596</td>\n",
              "      <td>-0.018992</td>\n",
              "      <td>0.144862</td>\n",
              "      <td>0.736045</td>\n",
              "      <td>-0.206056</td>\n",
              "      <td>-0.029609</td>\n",
              "      <td>0.009466</td>\n",
              "    </tr>\n",
              "    <tr>\n",
              "      <th>3</th>\n",
              "      <td>0.576560</td>\n",
              "      <td>0.613426</td>\n",
              "      <td>-0.018988</td>\n",
              "      <td>0.144868</td>\n",
              "      <td>0.735581</td>\n",
              "      <td>-0.205949</td>\n",
              "      <td>-0.029651</td>\n",
              "      <td>0.009467</td>\n",
              "    </tr>\n",
              "    <tr>\n",
              "      <th>4</th>\n",
              "      <td>0.576565</td>\n",
              "      <td>0.613257</td>\n",
              "      <td>-0.018984</td>\n",
              "      <td>0.144874</td>\n",
              "      <td>0.735117</td>\n",
              "      <td>-0.205842</td>\n",
              "      <td>-0.029693</td>\n",
              "      <td>0.009467</td>\n",
              "    </tr>\n",
              "    <tr>\n",
              "      <th>5</th>\n",
              "      <td>0.576569</td>\n",
              "      <td>0.613087</td>\n",
              "      <td>-0.018980</td>\n",
              "      <td>0.144879</td>\n",
              "      <td>0.734654</td>\n",
              "      <td>-0.205735</td>\n",
              "      <td>-0.029736</td>\n",
              "      <td>0.009468</td>\n",
              "    </tr>\n",
              "    <tr>\n",
              "      <th>6</th>\n",
              "      <td>0.576574</td>\n",
              "      <td>0.612918</td>\n",
              "      <td>-0.018977</td>\n",
              "      <td>0.144885</td>\n",
              "      <td>0.734192</td>\n",
              "      <td>-0.205628</td>\n",
              "      <td>-0.029778</td>\n",
              "      <td>0.009468</td>\n",
              "    </tr>\n",
              "    <tr>\n",
              "      <th>7</th>\n",
              "      <td>0.576579</td>\n",
              "      <td>0.612749</td>\n",
              "      <td>-0.018973</td>\n",
              "      <td>0.144891</td>\n",
              "      <td>0.733730</td>\n",
              "      <td>-0.205521</td>\n",
              "      <td>-0.029820</td>\n",
              "      <td>0.009468</td>\n",
              "    </tr>\n",
              "    <tr>\n",
              "      <th>8</th>\n",
              "      <td>0.576583</td>\n",
              "      <td>0.612580</td>\n",
              "      <td>-0.018969</td>\n",
              "      <td>0.144897</td>\n",
              "      <td>0.733269</td>\n",
              "      <td>-0.205414</td>\n",
              "      <td>-0.029861</td>\n",
              "      <td>0.009469</td>\n",
              "    </tr>\n",
              "    <tr>\n",
              "      <th>9</th>\n",
              "      <td>0.576587</td>\n",
              "      <td>0.612411</td>\n",
              "      <td>-0.018965</td>\n",
              "      <td>0.144902</td>\n",
              "      <td>0.732809</td>\n",
              "      <td>-0.205308</td>\n",
              "      <td>-0.029903</td>\n",
              "      <td>0.009469</td>\n",
              "    </tr>\n",
              "  </tbody>\n",
              "</table>\n",
              "</div>"
            ],
            "text/plain": [
              "     lcavol   lweight       age  ...       lcp   gleason     pgg45\n",
              "0  0.576546  0.613935 -0.018999  ... -0.206271 -0.029524  0.009465\n",
              "1  0.576551  0.613765 -0.018995  ... -0.206163 -0.029567  0.009466\n",
              "2  0.576555  0.613596 -0.018992  ... -0.206056 -0.029609  0.009466\n",
              "3  0.576560  0.613426 -0.018988  ... -0.205949 -0.029651  0.009467\n",
              "4  0.576565  0.613257 -0.018984  ... -0.205842 -0.029693  0.009467\n",
              "5  0.576569  0.613087 -0.018980  ... -0.205735 -0.029736  0.009468\n",
              "6  0.576574  0.612918 -0.018977  ... -0.205628 -0.029778  0.009468\n",
              "7  0.576579  0.612749 -0.018973  ... -0.205521 -0.029820  0.009468\n",
              "8  0.576583  0.612580 -0.018969  ... -0.205414 -0.029861  0.009469\n",
              "9  0.576587  0.612411 -0.018965  ... -0.205308 -0.029903  0.009469\n",
              "\n",
              "[10 rows x 8 columns]"
            ]
          },
          "metadata": {
            "tags": []
          },
          "execution_count": 246
        }
      ]
    },
    {
      "cell_type": "markdown",
      "metadata": {
        "id": "teWmsAo3_Z7x"
      },
      "source": [
        "# Coeffs to λ sheet\n",
        "As we can see again from the plots the coefficients have a tendency to shrink. Expect Bias which is independent to the shrinkage penalty(we have omit the b0 from the penalty)."
      ]
    },
    {
      "cell_type": "code",
      "metadata": {
        "colab": {
          "base_uri": "https://localhost:8080/",
          "height": 637
        },
        "id": "L9OKCZQxQ9OL",
        "outputId": "c0eb13a3-ea56-470a-eea0-85261c459ac5"
      },
      "source": [
        "import matplotlib.pyplot as plt\n",
        "\n",
        "#concatenate coeefs and bias to a new df\n",
        "coeffs_bias=df_coeffs.copy()\n",
        "coeffs_bias['bias']=all_bias\n",
        "\n",
        "fig, (ax1,ax2) = plt.subplots(1,2,figsize=(20,10))\n",
        "\n",
        "for i in coeffs_bias.columns.values:\n",
        "  scatter = ax1.plot(all_λ, coeffs_bias[i])\n",
        "\n",
        "ax1.legend(coeffs_bias.columns)\n",
        "ax1.set_xlabel('λ')\n",
        "ax1.set_ylabel('coeffs')\n",
        "ax1.set_title(\"Coeffs_λ_plot\")\n",
        "#I used scatter also (its the same plot )\n",
        "for i in coeffs_bias.columns.values:\n",
        "  scatter = ax2.scatter(all_λ, coeffs_bias[i])\n",
        "\n",
        "ax2.legend(coeffs_bias.columns)\n",
        "ax2.set_xlabel('λ')\n",
        "ax2.set_ylabel('coeffs')\n",
        "ax2.set_title(\"Coeffs_λ_scatter\")\n",
        "plt.show()  \n",
        "plt.savefig('Coeffs_λ.eps', dpi = 300)"
      ],
      "execution_count": 247,
      "outputs": [
        {
          "output_type": "display_data",
          "data": {
            "image/png": "[encoded data removed]",
            "text/plain": [
              "<Figure size 1440x720 with 2 Axes>"
            ]
          },
          "metadata": {
            "tags": [],
            "needs_background": "light"
          }
        },
        {
          "output_type": "display_data",
          "data": {
            "text/plain": [
              "<Figure size 432x288 with 0 Axes>"
            ]
          },
          "metadata": {
            "tags": []
          }
        }
      ]
    },
    {
      "cell_type": "markdown",
      "metadata": {
        "id": "r4dfOFU9AR_E"
      },
      "source": [
        "#Root Mean Squared Error to λ\n",
        "\n",
        "As we can see the diagram has a magic spot where the λ produce the best predictions. This λ is exactly 0.354"
      ]
    },
    {
      "cell_type": "code",
      "metadata": {
        "colab": {
          "base_uri": "https://localhost:8080/",
          "height": 653
        },
        "id": "4RMlz2gXZyv5",
        "outputId": "8acdcff6-ed33-42a8-81bc-16e770a0e658"
      },
      "source": [
        "import matplotlib.pyplot as plt\n",
        "\n",
        "\n",
        "\n",
        "\n",
        "#calculate coefficients and bias\n",
        "coeffs_1,bias_1=my_coeffs(train_values,train_df['lpsa'].values,opt_λ)\n",
        "#make predictions for both train and test set\n",
        "my_predictions_train=predict(train_df.values[:,:-1],coeffs_1,bias_1) \n",
        "my_predictions_test=predict(test_df.values[:,:-1],coeffs_1,bias_1) \n",
        "my_scores=scores_(train_df,test_df,my_predictions,my_predictions_train)\n",
        "\n",
        "#print a plot that shows the RSE for the test set based on the λ value\n",
        "fig, (l) = plt.subplots(figsize=(10,10))\n",
        "target_predictions = pd.DataFrame()\n",
        "target_predictions['target']=test_df.values[:,-1]\n",
        "target_predictions['predictions']=my_predictions\n",
        "sample_df=target_predictions.sample(n=15)\n",
        "l.legend(df_coeffs.columns)\n",
        "l.set_xlabel('target')\n",
        "l.set_ylabel('prediction')\n",
        "l.set_title(\"prediction_targer\")\n",
        "l.plot( sample_df['target'],sample_df['predictions'],'.')\n",
        "x = np.linspace(0, 5, 1000)\n",
        "l.plot(x, x, 'k-',linestyle='--')\n",
        "plt.savefig('prediction_targer.eps', dpi = 300)"
      ],
      "execution_count": 248,
      "outputs": [
        {
          "output_type": "stream",
          "text": [
            "The PostScript backend does not support transparency; partially transparent artists will be rendered opaque.\n",
            "The PostScript backend does not support transparency; partially transparent artists will be rendered opaque.\n"
          ],
          "name": "stderr"
        },
        {
          "output_type": "display_data",
          "data": {
            "image/png": "[encoded data removed]",
            "text/plain": [
              "<Figure size 720x720 with 1 Axes>"
            ]
          },
          "metadata": {
            "tags": [],
            "needs_background": "light"
          }
        }
      ]
    },
    {
      "cell_type": "code",
      "metadata": {
        "colab": {
          "base_uri": "https://localhost:8080/",
          "height": 653
        },
        "id": "_qLMKFEjB6Ps",
        "outputId": "3e305468-4e03-423d-f0d4-8eefa2c65852"
      },
      "source": [
        "import matplotlib.pyplot as plt\n",
        "\n",
        "#print a plot that shows the RSE for the test set based on the λ value\n",
        "fig, (l) = plt.subplots(figsize=(10,10))\n",
        "l.legend(df_coeffs.columns)\n",
        "l.set_xlabel('λ')\n",
        "l.set_ylabel('rse_test')\n",
        "l.set_title(\"rse_test_λ\")\n",
        "l.plot( all_λ,df_scores['rse_test'])\n",
        "plt.savefig('rse_λ.eps', dpi = 300)"
      ],
      "execution_count": 249,
      "outputs": [
        {
          "output_type": "stream",
          "text": [
            "The PostScript backend does not support transparency; partially transparent artists will be rendered opaque.\n",
            "The PostScript backend does not support transparency; partially transparent artists will be rendered opaque.\n"
          ],
          "name": "stderr"
        },
        {
          "output_type": "display_data",
          "data": {
            "image/png": "[encoded data removed]",
            "text/plain": [
              "<Figure size 720x720 with 1 Axes>"
            ]
          },
          "metadata": {
            "tags": [],
            "needs_background": "light"
          }
        }
      ]
    },
    {
      "cell_type": "code",
      "metadata": {
        "colab": {
          "base_uri": "https://localhost:8080/"
        },
        "id": "8WrNZeE9cYJZ",
        "outputId": "785dcdbb-a7ee-4936-ce3a-eb3f2881571a"
      },
      "source": [
        "#Linear vs Ridge Regression\n",
        "print(\"Ridge Regression predictions: \",my_predictions_train)\n",
        "print(\"Linear Regression predictions: \",my_predictions_train_LR)\n",
        "print(\"############################################################\")\n",
        "print(\"Ridge Regression predictions: \",my_predictions_test)\n",
        "print(\"Linear Regression predictions: \",my_predictions_test_LR)\n",
        "print(\"############################################################\")\n",
        "print(\"Ridge Regression scores: \",my_scores)\n",
        "print(\"Linear Regression scores: \",my_scores_LR)\n",
        "print(\"############################################################\")\n",
        "print(\"Ridge Regression coefficients: \",coeffs_1)\n",
        "print(\"Linear Regression coefficients: \",coeffs_LR)\n",
        "print(\"############################################################\")\n",
        "print(\"Ridge Regression bias: \",bias_1)\n",
        "print(\"Linear Regression bias: \",bias_LR)\n",
        "print(\"############################################################\")\n",
        "\n",
        "\n",
        "\n",
        "\n"
      ],
      "execution_count": 250,
      "outputs": [
        {
          "output_type": "stream",
          "text": [
            "Ridge Regression predictions:  [0.75978791 0.70109577 0.46153955 0.55806291 1.70077882 0.7640228\n",
            " 2.23105393 1.46118512 0.95721229 2.03036609 1.78027534 1.85902289\n",
            " 1.40743338 2.29599786 1.23665123 1.90131322 1.97738996 1.06085144\n",
            " 2.58424821 2.19533226 2.27005739 1.97459236 2.1410949  1.98388478\n",
            " 0.99787362 1.61095986 0.9696422  3.84566029 1.698991   2.14966039\n",
            " 2.12534446 2.46057148 2.62255272 4.08757024 2.56343455 3.17140248\n",
            " 3.05110531 2.38522234 2.30007427 2.88592319 2.52008212 2.95987116\n",
            " 3.14813083 3.12989568 1.46432752 3.01553308 3.17754735 2.26197461\n",
            " 3.32170917 3.44977725 3.51551656 3.5868054  3.3012233  2.13486292\n",
            " 2.90509981 3.45934085 2.63895031 3.68990097 3.12876186 2.84599002\n",
            " 4.07728694 3.346644   3.42897102 4.09929728 3.75512691 4.4299751\n",
            " 4.29527989]\n",
            "Linear Regression predictions:  [0.75353858 0.70040498 0.44906559 0.55687338 1.700083   0.76462172\n",
            " 2.23169054 1.46213549 0.95764547 2.01839575 1.77468627 1.85140133\n",
            " 1.39943465 2.28081126 1.24066142 1.90227158 1.97740214 1.06025544\n",
            " 2.56035833 2.19369936 2.25005272 1.94428706 2.14202486 1.97291915\n",
            " 0.98846838 1.58796666 0.95575097 3.86245665 1.68493079 2.15305679\n",
            " 2.12067165 2.45045739 2.62328973 4.09638    2.57075566 3.17981669\n",
            " 3.06252822 2.39221612 2.30957586 2.89233974 2.52992457 2.93714431\n",
            " 3.12648065 3.12713435 1.4759386  3.02721263 3.19521036 2.25589475\n",
            " 3.33590171 3.44930283 3.50837247 3.59520175 3.30376434 2.11377357\n",
            " 2.87284884 3.48312979 2.62355283 3.6956864  3.13189774 2.87004781\n",
            " 4.09922459 3.36357643 3.43564731 4.14249256 3.77414281 4.44984337\n",
            " 4.30839196]\n",
            "############################################################\n",
            "Ridge Regression predictions:  [1.97084853 1.16386576 1.26485506 1.88823305 2.56735008 1.93380112\n",
            " 2.05055819 1.82556835 1.98890034 1.32382346 2.92841826 2.19915628\n",
            " 2.17700764 2.79670332 2.66839614 2.18882603 2.41396002 3.04176748\n",
            " 3.20692936 1.40253441 3.40532443 3.69600534 2.53999964 2.731671\n",
            " 2.61094037 3.46195464 3.18131782 3.31042448 3.11052717 3.75762779]\n",
            "Linear Regression predictions:  [1.96903844 1.16995577 1.26117929 1.88375914 2.54431886 1.93275402\n",
            " 2.04233571 1.83091625 1.99115929 1.32347076 2.93843111 2.20314404\n",
            " 2.166421   2.79456237 2.67466879 2.18057291 2.40211068 3.02351576\n",
            " 3.21122283 1.38441459 3.41751878 3.70741749 2.54118337 2.72969658\n",
            " 2.64055575 3.48060024 3.17136269 3.2923494  3.11889686 3.76383999]\n",
            "############################################################\n",
            "Ridge Regression scores:  (0.6628706925832482, 0.7219306835248362, 0.6942335443220847, 0.5034656829150823)\n",
            "Linear Regression scores:  (0.662721486039448, 0.7219930785731833, 0.6943711796768238, 0.5033798502381974)\n",
            "############################################################\n",
            "Ridge Regression coefficients:  [ 0.576747    0.59932053 -0.01867438  0.14538204  0.69836742 -0.19718781\n",
            " -0.0329361   0.0094979 ]\n",
            "Linear Regression coefficients:  [ 0.57654319  0.61402    -0.01900102  0.14484808  0.73720864 -0.20632423\n",
            " -0.02950288  0.00946516]\n",
            "############################################################\n",
            "Ridge Regression bias:  0.4939205964603519\n",
            "Linear Regression bias:  0.42917013284905003\n",
            "############################################################\n"
          ],
          "name": "stdout"
        }
      ]
    },
    {
      "cell_type": "markdown",
      "metadata": {
        "id": "LbnWdg8fAsl2"
      },
      "source": [
        "# RR validation\n",
        "I am comparing the results of the sklearn RR to mine, in order to ensure that the process is correct."
      ]
    },
    {
      "cell_type": "code",
      "metadata": {
        "colab": {
          "base_uri": "https://localhost:8080/"
        },
        "id": "7w58dAbIiVZ4",
        "outputId": "ca9d3684-f990-41ff-d876-c484d227102b"
      },
      "source": [
        "from sklearn.linear_model import Ridge\n",
        "# using the Ridge regression to compare the results with my predictions\n",
        "#test my Ridge regression for λ=0.002\n",
        "print(\"Results for λ=0.002\")\n",
        "clf = Ridge(alpha=0.002)\n",
        "clf.fit(train_df.values[:,:-1], train_df['lpsa'].values)\n",
        "print(\"Sklearn_RR coefficients\",clf.coef_)\n",
        "print(\"my_RR coefficients\",all_coeffs[0])\n",
        "predictions1=clf.predict(train_df.values[:,:-1])\n",
        "predictions2=clf.predict(test_df.values[:,:-1])\n",
        "\n",
        "#print the scores of my ridge regression predictions and from sklearn ridge regression\n",
        "scores1=scores_(train_df,test_df,predictions2,predictions1)\n",
        "print(\"My_RR scores:\",scores1)\n",
        "#THE SCORES ARE THE SAME!!!!\n",
        "print(\"Sklearn_RR scores:\",df_scores.iloc[0].tolist())\n"
      ],
      "execution_count": 251,
      "outputs": [
        {
          "output_type": "stream",
          "text": [
            "Results for λ=0.002\n",
            "Sklearn_RR coefficients [ 0.57654565  0.61393512 -0.01899913  0.14485092  0.7369756  -0.20627051\n",
            " -0.02952415  0.00946538]\n",
            "my_RR coefficients [ 0.57654565  0.61393512 -0.01899913  0.14485092  0.7369756  -0.20627051\n",
            " -0.02952415  0.00946538]\n",
            "My_RR scores: (0.6627214912760568, 0.7219923252674255, 0.6943711748468655, 0.503380886554567)\n",
            "Sklearn_RR scores: [0.6627214912760568, 0.7219923252674095, 0.6943711748468655, 0.5033808865545892]\n"
          ],
          "name": "stdout"
        }
      ]
    }
  ]
}