{
  "nbformat": 4,
  "nbformat_minor": 0,
  "metadata": {
    "colab": {
      "name": "Machine_Learning2.ipynb",
      "provenance": [],
      "collapsed_sections": [],
      "toc_visible": true
    },
    "kernelspec": {
      "name": "python3",
      "display_name": "Python 3"
    },
    "language_info": {
      "name": "python"
    }
  },
  "cells": [
    {
      "cell_type": "code",
      "metadata": {
        "colab": {
          "base_uri": "https://localhost:8080/"
        },
        "id": "xuHVGDJwq8Mw",
        "outputId": "6d022816-e007-422d-d967-b6da468e6c52"
      },
      "source": [
        "from google.colab import drive\n",
        "drive.mount('/content/drive')"
      ],
      "execution_count": 1,
      "outputs": [
        {
          "output_type": "stream",
          "text": [
            "Mounted at /content/drive\n"
          ],
          "name": "stdout"
        }
      ]
    },
    {
      "cell_type": "markdown",
      "metadata": {
        "id": "aL-flNIfhRdH"
      },
      "source": [
        "# Read of adult.data and adult.test\n",
        "\n",
        "First of all I connected the google collab with my google drive. This happens in oreder to avoid uploading the files each time I rerun the programme.\n",
        "Because the files does not include headers I read just the pure data. After that I define the headers (column names) based on the names that the site provide us. https://archive.ics.uci.edu/ml/datasets/Adult\n",
        "\n",
        "Then as the exercise says we have to omit the rows that has on at least one Feature the value \" ?\" (all the values of the datasets have a space in front of them). \n",
        "\n",
        "The same process is done on the test set, but this time we **skip the first line** because it has information we don't need. Something extrat that the test set needs is that on the coloumn salary the values has en extra \".\" in the end. We simple remove this \".\"."
      ]
    },
    {
      "cell_type": "code",
      "metadata": {
        "colab": {
          "base_uri": "https://localhost:8080/",
          "height": 580
        },
        "id": "02k_8qzZoUGj",
        "outputId": "add3ed2c-2ef6-40ff-d497-b23103c82061"
      },
      "source": [
        "import numpy as np\n",
        "import pandas as pd\n",
        "from sklearn.preprocessing import StandardScaler\n",
        "\n",
        "#I used my google drive and saved the file into a location, in order to avoid uploading them every time I need them\n",
        "Location = '/content/drive/MyDrive/Machine_Learning/adult.data'\n",
        "\n",
        "#read the file and pass it into a dataframe, without headers\n",
        "data_df = pd.read_csv(Location,header=None);\n",
        "#set my Features headers \n",
        "data_df.columns=['age','workclass','fnlwgt','education','education-num','marital-status','occupation','relationship','race','sex','capital-gain','capital-loss','hours-per-week','native-country','salary']\n",
        "# data_df.columns = [x.strip() for x in data_df.columns]\n",
        "print(data_df.shape)\n",
        "print(data_df.columns.values)\n",
        "\n",
        "#keep all the lines that don't include in any feature the \"?\" value\n",
        "data_df = data_df[(data_df['age'] != \" ?\") & (data_df['workclass'] != \" ?\") & (data_df['fnlwgt'] != \" ?\") & (data_df['education'] != \" ?\") & (data_df['education-num'] != \" ?\") \n",
        "& (data_df['marital-status'] != \" ?\") & (data_df['occupation'] != \" ?\") & (data_df['relationship'] != \" ?\") & (data_df['race'] != \" ?\") & (data_df['sex'] != \" ?\") & (data_df['capital-gain'] != \" ?\") & (data_df['capital-loss'] != \" ?\") \n",
        "& (data_df['hours-per-week'] != \" ?\") & (data_df['native-country'] != \" ?\") & (data_df['salary'] != \" ?\")]\n",
        "\n",
        "#Scaler, uncomment the lines below to standarize the continue features for the train set\n",
        "# continue_features=['age','fnlwgt','education-num','capital-gain','capital-loss','hours-per-week']\n",
        "# scaler = StandardScaler()\n",
        "# data_df[continue_features] = scaler.fit_transform(data_df[continue_features])\n",
        "# print(\"Mean of standarized age: \",'{0:.10f}'.format(data_df['age'].mean()))\n",
        "# print(\"Variance of standarized age: \",'{0:.10f}'.format(data_df['age'].var()))\n",
        "\n",
        "#keep all the unique values of salary because this will be eventually our classes\n",
        "classes=data_df['salary'].unique().tolist()\n",
        "print(data_df.shape)\n",
        "data_df.head(10)"
      ],
      "execution_count": 55,
      "outputs": [
        {
          "output_type": "stream",
          "text": [
            "(32561, 15)\n",
            "['age' 'workclass' 'fnlwgt' 'education' 'education-num' 'marital-status'\n",
            " 'occupation' 'relationship' 'race' 'sex' 'capital-gain' 'capital-loss'\n",
            " 'hours-per-week' 'native-country' 'salary']\n",
            "(30162, 15)\n"
          ],
          "name": "stdout"
        },
        {
          "output_type": "execute_result",
          "data": {
            "text/html": [
              "<div>\n",
              "<style scoped>\n",
              "    .dataframe tbody tr th:only-of-type {\n",
              "        vertical-align: middle;\n",
              "    }\n",
              "\n",
              "    .dataframe tbody tr th {\n",
              "        vertical-align: top;\n",
              "    }\n",
              "\n",
              "    .dataframe thead th {\n",
              "        text-align: right;\n",
              "    }\n",
              "</style>\n",
              "<table border=\"1\" class=\"dataframe\">\n",
              "  <thead>\n",
              "    <tr style=\"text-align: right;\">\n",
              "      <th></th>\n",
              "      <th>age</th>\n",
              "      <th>workclass</th>\n",
              "      <th>fnlwgt</th>\n",
              "      <th>education</th>\n",
              "      <th>education-num</th>\n",
              "      <th>marital-status</th>\n",
              "      <th>occupation</th>\n",
              "      <th>relationship</th>\n",
              "      <th>race</th>\n",
              "      <th>sex</th>\n",
              "      <th>capital-gain</th>\n",
              "      <th>capital-loss</th>\n",
              "      <th>hours-per-week</th>\n",
              "      <th>native-country</th>\n",
              "      <th>salary</th>\n",
              "    </tr>\n",
              "  </thead>\n",
              "  <tbody>\n",
              "    <tr>\n",
              "      <th>0</th>\n",
              "      <td>39</td>\n",
              "      <td>State-gov</td>\n",
              "      <td>77516</td>\n",
              "      <td>Bachelors</td>\n",
              "      <td>13</td>\n",
              "      <td>Never-married</td>\n",
              "      <td>Adm-clerical</td>\n",
              "      <td>Not-in-family</td>\n",
              "      <td>White</td>\n",
              "      <td>Male</td>\n",
              "      <td>2174</td>\n",
              "      <td>0</td>\n",
              "      <td>40</td>\n",
              "      <td>United-States</td>\n",
              "      <td>&lt;=50K</td>\n",
              "    </tr>\n",
              "    <tr>\n",
              "      <th>1</th>\n",
              "      <td>50</td>\n",
              "      <td>Self-emp-not-inc</td>\n",
              "      <td>83311</td>\n",
              "      <td>Bachelors</td>\n",
              "      <td>13</td>\n",
              "      <td>Married-civ-spouse</td>\n",
              "      <td>Exec-managerial</td>\n",
              "      <td>Husband</td>\n",
              "      <td>White</td>\n",
              "      <td>Male</td>\n",
              "      <td>0</td>\n",
              "      <td>0</td>\n",
              "      <td>13</td>\n",
              "      <td>United-States</td>\n",
              "      <td>&lt;=50K</td>\n",
              "    </tr>\n",
              "    <tr>\n",
              "      <th>2</th>\n",
              "      <td>38</td>\n",
              "      <td>Private</td>\n",
              "      <td>215646</td>\n",
              "      <td>HS-grad</td>\n",
              "      <td>9</td>\n",
              "      <td>Divorced</td>\n",
              "      <td>Handlers-cleaners</td>\n",
              "      <td>Not-in-family</td>\n",
              "      <td>White</td>\n",
              "      <td>Male</td>\n",
              "      <td>0</td>\n",
              "      <td>0</td>\n",
              "      <td>40</td>\n",
              "      <td>United-States</td>\n",
              "      <td>&lt;=50K</td>\n",
              "    </tr>\n",
              "    <tr>\n",
              "      <th>3</th>\n",
              "      <td>53</td>\n",
              "      <td>Private</td>\n",
              "      <td>234721</td>\n",
              "      <td>11th</td>\n",
              "      <td>7</td>\n",
              "      <td>Married-civ-spouse</td>\n",
              "      <td>Handlers-cleaners</td>\n",
              "      <td>Husband</td>\n",
              "      <td>Black</td>\n",
              "      <td>Male</td>\n",
              "      <td>0</td>\n",
              "      <td>0</td>\n",
              "      <td>40</td>\n",
              "      <td>United-States</td>\n",
              "      <td>&lt;=50K</td>\n",
              "    </tr>\n",
              "    <tr>\n",
              "      <th>4</th>\n",
              "      <td>28</td>\n",
              "      <td>Private</td>\n",
              "      <td>338409</td>\n",
              "      <td>Bachelors</td>\n",
              "      <td>13</td>\n",
              "      <td>Married-civ-spouse</td>\n",
              "      <td>Prof-specialty</td>\n",
              "      <td>Wife</td>\n",
              "      <td>Black</td>\n",
              "      <td>Female</td>\n",
              "      <td>0</td>\n",
              "      <td>0</td>\n",
              "      <td>40</td>\n",
              "      <td>Cuba</td>\n",
              "      <td>&lt;=50K</td>\n",
              "    </tr>\n",
              "    <tr>\n",
              "      <th>5</th>\n",
              "      <td>37</td>\n",
              "      <td>Private</td>\n",
              "      <td>284582</td>\n",
              "      <td>Masters</td>\n",
              "      <td>14</td>\n",
              "      <td>Married-civ-spouse</td>\n",
              "      <td>Exec-managerial</td>\n",
              "      <td>Wife</td>\n",
              "      <td>White</td>\n",
              "      <td>Female</td>\n",
              "      <td>0</td>\n",
              "      <td>0</td>\n",
              "      <td>40</td>\n",
              "      <td>United-States</td>\n",
              "      <td>&lt;=50K</td>\n",
              "    </tr>\n",
              "    <tr>\n",
              "      <th>6</th>\n",
              "      <td>49</td>\n",
              "      <td>Private</td>\n",
              "      <td>160187</td>\n",
              "      <td>9th</td>\n",
              "      <td>5</td>\n",
              "      <td>Married-spouse-absent</td>\n",
              "      <td>Other-service</td>\n",
              "      <td>Not-in-family</td>\n",
              "      <td>Black</td>\n",
              "      <td>Female</td>\n",
              "      <td>0</td>\n",
              "      <td>0</td>\n",
              "      <td>16</td>\n",
              "      <td>Jamaica</td>\n",
              "      <td>&lt;=50K</td>\n",
              "    </tr>\n",
              "    <tr>\n",
              "      <th>7</th>\n",
              "      <td>52</td>\n",
              "      <td>Self-emp-not-inc</td>\n",
              "      <td>209642</td>\n",
              "      <td>HS-grad</td>\n",
              "      <td>9</td>\n",
              "      <td>Married-civ-spouse</td>\n",
              "      <td>Exec-managerial</td>\n",
              "      <td>Husband</td>\n",
              "      <td>White</td>\n",
              "      <td>Male</td>\n",
              "      <td>0</td>\n",
              "      <td>0</td>\n",
              "      <td>45</td>\n",
              "      <td>United-States</td>\n",
              "      <td>&gt;50K</td>\n",
              "    </tr>\n",
              "    <tr>\n",
              "      <th>8</th>\n",
              "      <td>31</td>\n",
              "      <td>Private</td>\n",
              "      <td>45781</td>\n",
              "      <td>Masters</td>\n",
              "      <td>14</td>\n",
              "      <td>Never-married</td>\n",
              "      <td>Prof-specialty</td>\n",
              "      <td>Not-in-family</td>\n",
              "      <td>White</td>\n",
              "      <td>Female</td>\n",
              "      <td>14084</td>\n",
              "      <td>0</td>\n",
              "      <td>50</td>\n",
              "      <td>United-States</td>\n",
              "      <td>&gt;50K</td>\n",
              "    </tr>\n",
              "    <tr>\n",
              "      <th>9</th>\n",
              "      <td>42</td>\n",
              "      <td>Private</td>\n",
              "      <td>159449</td>\n",
              "      <td>Bachelors</td>\n",
              "      <td>13</td>\n",
              "      <td>Married-civ-spouse</td>\n",
              "      <td>Exec-managerial</td>\n",
              "      <td>Husband</td>\n",
              "      <td>White</td>\n",
              "      <td>Male</td>\n",
              "      <td>5178</td>\n",
              "      <td>0</td>\n",
              "      <td>40</td>\n",
              "      <td>United-States</td>\n",
              "      <td>&gt;50K</td>\n",
              "    </tr>\n",
              "  </tbody>\n",
              "</table>\n",
              "</div>"
            ],
            "text/plain": [
              "   age          workclass  fnlwgt  ... hours-per-week  native-country  salary\n",
              "0   39          State-gov   77516  ...             40   United-States   <=50K\n",
              "1   50   Self-emp-not-inc   83311  ...             13   United-States   <=50K\n",
              "2   38            Private  215646  ...             40   United-States   <=50K\n",
              "3   53            Private  234721  ...             40   United-States   <=50K\n",
              "4   28            Private  338409  ...             40            Cuba   <=50K\n",
              "5   37            Private  284582  ...             40   United-States   <=50K\n",
              "6   49            Private  160187  ...             16         Jamaica   <=50K\n",
              "7   52   Self-emp-not-inc  209642  ...             45   United-States    >50K\n",
              "8   31            Private   45781  ...             50   United-States    >50K\n",
              "9   42            Private  159449  ...             40   United-States    >50K\n",
              "\n",
              "[10 rows x 15 columns]"
            ]
          },
          "metadata": {
            "tags": []
          },
          "execution_count": 55
        }
      ]
    },
    {
      "cell_type": "code",
      "metadata": {
        "colab": {
          "base_uri": "https://localhost:8080/",
          "height": 563
        },
        "id": "8rQbGONcuoM8",
        "outputId": "9ec391cd-4084-4f6d-ea9f-72a8e6d6909a"
      },
      "source": [
        "# Location of my test file in the google drive\n",
        "Location = '/content/drive/MyDrive/Machine_Learning/adult.test'\n",
        "\n",
        "#skip the first row of the file and again without headers\n",
        "test_df = pd.read_csv(Location,skiprows=[0],header=None);\n",
        "#set my Features headers \n",
        "test_df.columns=['age','workclass','fnlwgt','education','education-num','marital-status','occupation','relationship','race','sex','capital-gain','capital-loss','hours-per-week','native-country','salary']\n",
        "print(test_df.shape)\n",
        "\n",
        "#keep all the lines that don't include in any feature the \"?\" value\n",
        "test_df = test_df[(test_df['age'] != \" ?\") & (test_df['workclass'] != \" ?\") & (test_df['fnlwgt'] != \" ?\") & (test_df['education'] != \" ?\") & (test_df['education-num'] != \" ?\") \n",
        "& (test_df['marital-status'] != \" ?\") & (test_df['occupation'] != \" ?\") & (test_df['relationship'] != \" ?\") & (test_df['race'] != \" ?\") & (test_df['sex'] != \" ?\") & (test_df['capital-gain'] != \" ?\") & (test_df['capital-loss'] != \" ?\") \n",
        "& (test_df['hours-per-week'] != \" ?\") & (test_df['native-country'] != \" ?\") & (test_df['salary'] != \" ?\")]\n",
        "\n",
        "#Scaler, uncomment the lines below to standarize the continue features for the test set\n",
        "# scaler = StandardScaler()\n",
        "# test_df[continue_features] = scaler.fit_transform(test_df[continue_features])\n",
        "\n",
        "print(test_df.shape)\n",
        "#on the testset the salary had the form <=50K.\n",
        "#to avoid any confusion we remove the \".\" using the line below\n",
        "test_df['salary']=test_df['salary'].apply(lambda x:x.replace(\".\",\"\"))\n",
        "test_df.head(10)\n"
      ],
      "execution_count": 56,
      "outputs": [
        {
          "output_type": "stream",
          "text": [
            "(16281, 15)\n",
            "(15060, 15)\n"
          ],
          "name": "stdout"
        },
        {
          "output_type": "execute_result",
          "data": {
            "text/html": [
              "<div>\n",
              "<style scoped>\n",
              "    .dataframe tbody tr th:only-of-type {\n",
              "        vertical-align: middle;\n",
              "    }\n",
              "\n",
              "    .dataframe tbody tr th {\n",
              "        vertical-align: top;\n",
              "    }\n",
              "\n",
              "    .dataframe thead th {\n",
              "        text-align: right;\n",
              "    }\n",
              "</style>\n",
              "<table border=\"1\" class=\"dataframe\">\n",
              "  <thead>\n",
              "    <tr style=\"text-align: right;\">\n",
              "      <th></th>\n",
              "      <th>age</th>\n",
              "      <th>workclass</th>\n",
              "      <th>fnlwgt</th>\n",
              "      <th>education</th>\n",
              "      <th>education-num</th>\n",
              "      <th>marital-status</th>\n",
              "      <th>occupation</th>\n",
              "      <th>relationship</th>\n",
              "      <th>race</th>\n",
              "      <th>sex</th>\n",
              "      <th>capital-gain</th>\n",
              "      <th>capital-loss</th>\n",
              "      <th>hours-per-week</th>\n",
              "      <th>native-country</th>\n",
              "      <th>salary</th>\n",
              "    </tr>\n",
              "  </thead>\n",
              "  <tbody>\n",
              "    <tr>\n",
              "      <th>0</th>\n",
              "      <td>25</td>\n",
              "      <td>Private</td>\n",
              "      <td>226802</td>\n",
              "      <td>11th</td>\n",
              "      <td>7</td>\n",
              "      <td>Never-married</td>\n",
              "      <td>Machine-op-inspct</td>\n",
              "      <td>Own-child</td>\n",
              "      <td>Black</td>\n",
              "      <td>Male</td>\n",
              "      <td>0</td>\n",
              "      <td>0</td>\n",
              "      <td>40</td>\n",
              "      <td>United-States</td>\n",
              "      <td>&lt;=50K</td>\n",
              "    </tr>\n",
              "    <tr>\n",
              "      <th>1</th>\n",
              "      <td>38</td>\n",
              "      <td>Private</td>\n",
              "      <td>89814</td>\n",
              "      <td>HS-grad</td>\n",
              "      <td>9</td>\n",
              "      <td>Married-civ-spouse</td>\n",
              "      <td>Farming-fishing</td>\n",
              "      <td>Husband</td>\n",
              "      <td>White</td>\n",
              "      <td>Male</td>\n",
              "      <td>0</td>\n",
              "      <td>0</td>\n",
              "      <td>50</td>\n",
              "      <td>United-States</td>\n",
              "      <td>&lt;=50K</td>\n",
              "    </tr>\n",
              "    <tr>\n",
              "      <th>2</th>\n",
              "      <td>28</td>\n",
              "      <td>Local-gov</td>\n",
              "      <td>336951</td>\n",
              "      <td>Assoc-acdm</td>\n",
              "      <td>12</td>\n",
              "      <td>Married-civ-spouse</td>\n",
              "      <td>Protective-serv</td>\n",
              "      <td>Husband</td>\n",
              "      <td>White</td>\n",
              "      <td>Male</td>\n",
              "      <td>0</td>\n",
              "      <td>0</td>\n",
              "      <td>40</td>\n",
              "      <td>United-States</td>\n",
              "      <td>&gt;50K</td>\n",
              "    </tr>\n",
              "    <tr>\n",
              "      <th>3</th>\n",
              "      <td>44</td>\n",
              "      <td>Private</td>\n",
              "      <td>160323</td>\n",
              "      <td>Some-college</td>\n",
              "      <td>10</td>\n",
              "      <td>Married-civ-spouse</td>\n",
              "      <td>Machine-op-inspct</td>\n",
              "      <td>Husband</td>\n",
              "      <td>Black</td>\n",
              "      <td>Male</td>\n",
              "      <td>7688</td>\n",
              "      <td>0</td>\n",
              "      <td>40</td>\n",
              "      <td>United-States</td>\n",
              "      <td>&gt;50K</td>\n",
              "    </tr>\n",
              "    <tr>\n",
              "      <th>5</th>\n",
              "      <td>34</td>\n",
              "      <td>Private</td>\n",
              "      <td>198693</td>\n",
              "      <td>10th</td>\n",
              "      <td>6</td>\n",
              "      <td>Never-married</td>\n",
              "      <td>Other-service</td>\n",
              "      <td>Not-in-family</td>\n",
              "      <td>White</td>\n",
              "      <td>Male</td>\n",
              "      <td>0</td>\n",
              "      <td>0</td>\n",
              "      <td>30</td>\n",
              "      <td>United-States</td>\n",
              "      <td>&lt;=50K</td>\n",
              "    </tr>\n",
              "    <tr>\n",
              "      <th>7</th>\n",
              "      <td>63</td>\n",
              "      <td>Self-emp-not-inc</td>\n",
              "      <td>104626</td>\n",
              "      <td>Prof-school</td>\n",
              "      <td>15</td>\n",
              "      <td>Married-civ-spouse</td>\n",
              "      <td>Prof-specialty</td>\n",
              "      <td>Husband</td>\n",
              "      <td>White</td>\n",
              "      <td>Male</td>\n",
              "      <td>3103</td>\n",
              "      <td>0</td>\n",
              "      <td>32</td>\n",
              "      <td>United-States</td>\n",
              "      <td>&gt;50K</td>\n",
              "    </tr>\n",
              "    <tr>\n",
              "      <th>8</th>\n",
              "      <td>24</td>\n",
              "      <td>Private</td>\n",
              "      <td>369667</td>\n",
              "      <td>Some-college</td>\n",
              "      <td>10</td>\n",
              "      <td>Never-married</td>\n",
              "      <td>Other-service</td>\n",
              "      <td>Unmarried</td>\n",
              "      <td>White</td>\n",
              "      <td>Female</td>\n",
              "      <td>0</td>\n",
              "      <td>0</td>\n",
              "      <td>40</td>\n",
              "      <td>United-States</td>\n",
              "      <td>&lt;=50K</td>\n",
              "    </tr>\n",
              "    <tr>\n",
              "      <th>9</th>\n",
              "      <td>55</td>\n",
              "      <td>Private</td>\n",
              "      <td>104996</td>\n",
              "      <td>7th-8th</td>\n",
              "      <td>4</td>\n",
              "      <td>Married-civ-spouse</td>\n",
              "      <td>Craft-repair</td>\n",
              "      <td>Husband</td>\n",
              "      <td>White</td>\n",
              "      <td>Male</td>\n",
              "      <td>0</td>\n",
              "      <td>0</td>\n",
              "      <td>10</td>\n",
              "      <td>United-States</td>\n",
              "      <td>&lt;=50K</td>\n",
              "    </tr>\n",
              "    <tr>\n",
              "      <th>10</th>\n",
              "      <td>65</td>\n",
              "      <td>Private</td>\n",
              "      <td>184454</td>\n",
              "      <td>HS-grad</td>\n",
              "      <td>9</td>\n",
              "      <td>Married-civ-spouse</td>\n",
              "      <td>Machine-op-inspct</td>\n",
              "      <td>Husband</td>\n",
              "      <td>White</td>\n",
              "      <td>Male</td>\n",
              "      <td>6418</td>\n",
              "      <td>0</td>\n",
              "      <td>40</td>\n",
              "      <td>United-States</td>\n",
              "      <td>&gt;50K</td>\n",
              "    </tr>\n",
              "    <tr>\n",
              "      <th>11</th>\n",
              "      <td>36</td>\n",
              "      <td>Federal-gov</td>\n",
              "      <td>212465</td>\n",
              "      <td>Bachelors</td>\n",
              "      <td>13</td>\n",
              "      <td>Married-civ-spouse</td>\n",
              "      <td>Adm-clerical</td>\n",
              "      <td>Husband</td>\n",
              "      <td>White</td>\n",
              "      <td>Male</td>\n",
              "      <td>0</td>\n",
              "      <td>0</td>\n",
              "      <td>40</td>\n",
              "      <td>United-States</td>\n",
              "      <td>&lt;=50K</td>\n",
              "    </tr>\n",
              "  </tbody>\n",
              "</table>\n",
              "</div>"
            ],
            "text/plain": [
              "    age          workclass  fnlwgt  ... hours-per-week  native-country  salary\n",
              "0    25            Private  226802  ...             40   United-States   <=50K\n",
              "1    38            Private   89814  ...             50   United-States   <=50K\n",
              "2    28          Local-gov  336951  ...             40   United-States    >50K\n",
              "3    44            Private  160323  ...             40   United-States    >50K\n",
              "5    34            Private  198693  ...             30   United-States   <=50K\n",
              "7    63   Self-emp-not-inc  104626  ...             32   United-States    >50K\n",
              "8    24            Private  369667  ...             40   United-States   <=50K\n",
              "9    55            Private  104996  ...             10   United-States   <=50K\n",
              "10   65            Private  184454  ...             40   United-States    >50K\n",
              "11   36        Federal-gov  212465  ...             40   United-States   <=50K\n",
              "\n",
              "[10 rows x 15 columns]"
            ]
          },
          "metadata": {
            "tags": []
          },
          "execution_count": 56
        }
      ]
    },
    {
      "cell_type": "markdown",
      "metadata": {
        "id": "7egoW0MZj93k"
      },
      "source": [
        "# Prior Calculator\n",
        "\n",
        "This function simply calculates the πκ that we have. Its class has its own prior and is calculated in this way:    \n",
        "**π(Α)= rows_blong_in_ClassA/all_the_rows**. In our case we will have 2 priors one for the class(<=50K) and another one for the class(>50K).\n",
        "\n",
        "Priors:\n",
        "{' <=50K': 75.10443604535509, ' >50K': 24.888933094622374}"
      ]
    },
    {
      "cell_type": "code",
      "metadata": {
        "colab": {
          "base_uri": "https://localhost:8080/"
        },
        "id": "q2fAu8BEwJsf",
        "outputId": "9487d140-1883-491a-b56e-c47f9a9d6c43"
      },
      "source": [
        "# A function that computes the 2 priors (we have only 2 different classes)\n",
        "#the priors of each class are ' <=50K'->75.10443604535509 and ' 50K'-> 24.888933094622374\n",
        "def Prior_Calculator(df,classes):\n",
        "  # we take only the last feature\n",
        "  last_label=df[['salary']]\n",
        "  counts=[]\n",
        "  for i in range(len(classes)):\n",
        "    counts.append(0)\n",
        "  #first count the populations for each classe\n",
        "  for i in last_label.values:\n",
        "    counts[classes.index(i)]+=1\n",
        "  #return the division with the total population\n",
        "  print(counts)\n",
        "  return [x/df.shape[0]*100 for x in counts]\n",
        "\n",
        "priors=Prior_Calculator(data_df,classes)\n",
        "#create a dictionary to know the class of each prior\n",
        "priors_dict = {classes[i]: priors[i] for i in range(len(classes))}\n",
        "print(priors_dict)"
      ],
      "execution_count": 57,
      "outputs": [
        {
          "output_type": "stream",
          "text": [
            "[22654, 7508]\n",
            "{' <=50K': 75.10775147536636, ' >50K': 24.892248524633644}\n"
          ],
          "name": "stdout"
        }
      ]
    },
    {
      "cell_type": "markdown",
      "metadata": {
        "id": "aWO5zjHWlDZD"
      },
      "source": [
        "# Parameter Estimator\n",
        "\n",
        "In this section we have to calculate first the μ,σ parameters for our continues features. We assume that the continues Features ['age', 'fnlwgt', 'education-num', 'capital-gain', 'capital-loss', 'hours-per-week'] follows the Gauss Distribution (when a feature is continue it means that it is a number). Now that we assume that the values follow the Gauss Distribution we follow the Maximum Likelihood Estimation (MLE) to estimate these two parameters (μ,σ). We have to estimate a μ,σ for each feature, for each class. The μ is the mean and the σ is the var(see more about this on the pdf). "
      ]
    },
    {
      "cell_type": "code",
      "metadata": {
        "colab": {
          "base_uri": "https://localhost:8080/"
        },
        "id": "MK-3LNxF_U5k",
        "outputId": "74f4226e-eb9d-4cb9-fa7d-fa04958f7210"
      },
      "source": [
        "import math\n",
        "\n",
        "#This Function return the μ and σ parameters for the continue features\n",
        "def Parameters_Estimator(df,continue_features,classes):\n",
        "  m_dict={}\n",
        "  s_dict={}\n",
        "  for c in classes:\n",
        "    m_lt={}\n",
        "    for col in continue_features:\n",
        "      #takes the mean of the feature if it has salary in class c\n",
        "      m_lt[col]=(df[col].where(df['salary']==c).mean())\n",
        "    m_dict[c]=m_lt\n",
        "\n",
        "    s_lt={}\n",
        "    for i,col in enumerate(continue_features):\n",
        "      #takes the var of the feature if it has salary less_than(lt) 50k\n",
        "      s_lt[col]=( math.sqrt(((df[col].where(df['salary']==c)-m_dict[c][col])**2).mean()) )\n",
        "    s_dict[c]=s_lt  \n",
        "  return m_dict,s_dict\n",
        "\n",
        "\n",
        "#define the features that has continue values\n",
        "continue_features=['age','fnlwgt','education-num','capital-gain','capital-loss','hours-per-week']\n",
        "#2 lists that include 2 dictionary each\n",
        "μ,σ=Parameters_Estimator(data_df,continue_features,classes)\n",
        "# Print the results\n",
        "print(μ)\n",
        "print(σ) \n",
        "print(σ)"
      ],
      "execution_count": 58,
      "outputs": [
        {
          "output_type": "stream",
          "text": [
            "{' <=50K': {'age': 36.60806038668668, 'fnlwgt': 190338.64672905448, 'education-num': 9.629116270857244, 'capital-gain': 148.8938377328507, 'capital-loss': 53.44800035313852, 'hours-per-week': 39.34859186015715}, ' >50K': {'age': 43.95911028236548, 'fnlwgt': 188149.96217368142, 'education-num': 11.606419818859882, 'capital-gain': 3937.6798082045816, 'capital-loss': 193.75066595631327, 'hours-per-week': 45.70657964837507}}\n",
            "{' <=50K': {'age': 13.46433407388627, 'fnlwgt': 106568.99082609422, 'education-num': 2.4135428617999684, 'capital-gain': 936.3716120600063, 'capital-loss': 310.26341487381796, 'hours-per-week': 11.95051036860488}, ' >50K': {'age': 10.26894890021735, 'fnlwgt': 102814.88940721686, 'education-num': 2.3682652194811826, 'capital-gain': 14385.101938325668, 'capital-loss': 592.7861087307631, 'hours-per-week': 10.736271573483526}}\n",
            "{' <=50K': {'age': 13.46433407388627, 'fnlwgt': 106568.99082609422, 'education-num': 2.4135428617999684, 'capital-gain': 936.3716120600063, 'capital-loss': 310.26341487381796, 'hours-per-week': 11.95051036860488}, ' >50K': {'age': 10.26894890021735, 'fnlwgt': 102814.88940721686, 'education-num': 2.3682652194811826, 'capital-gain': 14385.101938325668, 'capital-loss': 592.7861087307631, 'hours-per-week': 10.736271573483526}}\n"
          ],
          "name": "stdout"
        }
      ]
    },
    {
      "cell_type": "markdown",
      "metadata": {
        "id": "EnGGJP14n8el"
      },
      "source": [
        "# Density function for the discrete features\n",
        "As the Presentations says the density function when it comes to discrete features fk(x) = p(X = x|Y = k): the density for X.\n",
        "As we know the p(A|B)=p(AB)/p(B).\n",
        "So the logic we follow here is that we count the rows that has on feature X the value x and on the same time they belong on one of the two classes. By following this eventually we will have a value (of the density function) for every unique value of every discrete feature, of every class."
      ]
    },
    {
      "cell_type": "code",
      "metadata": {
        "colab": {
          "base_uri": "https://localhost:8080/"
        },
        "id": "Vmwyfochar9A",
        "outputId": "350d98fe-ca1a-42b2-be2f-1c55f23a36eb"
      },
      "source": [
        "# functions that calculate the density function of the discrete vvalues\n",
        "def discrete_probs(df,discrete_features,classes):\n",
        "  \n",
        "  discrete_dens={}\n",
        "  for c in classes:\n",
        "    all_p=[]\n",
        "    #total rows that belong to class c\n",
        "    total_=int(df['salary'].where(df['salary']==c).value_counts())\n",
        "    print(\"Total rows that belong to \",c,\":\",total_)\n",
        "    for col in discrete_features:\n",
        "      # uniq_values.append(df[col].unique().tolist())\n",
        "      #create dictionary to know for what value we are refering to and count the rows that has this value and salary according to the c class\n",
        "      all_p.append(df[col].where(df['salary']==c).value_counts().to_dict())\n",
        "\n",
        "    # print(all_p_lt)\n",
        "    for i in range(len(all_p)):\n",
        "      #make the division with total_ to have the probability \n",
        "      all_p[i]={k:v/total_ for k, v in  all_p[i].items()}\n",
        "    #add the discrete density values of class c in the dictionary\n",
        "    discrete_dens[c]=all_p\n",
        "  return discrete_dens\n",
        "\n",
        "#define the features that has discrete values\n",
        "discrete_features=['workclass','education','marital-status','occupation','relationship','race','sex','native-country']\n",
        "probs=discrete_probs(data_df,discrete_features,classes) \n",
        "\n",
        "#Print all the density values for ever class, for every feature for every different value\n",
        "for k,v in probs.items():\n",
        "  print(k)\n",
        "  for d in v:\n",
        "    print(d)\n"
      ],
      "execution_count": 59,
      "outputs": [
        {
          "output_type": "stream",
          "text": [
            "Total rows that belong to   <=50K : 22654\n",
            "Total rows that belong to   >50K : 7508\n",
            " <=50K\n",
            "{' Private': 0.768517701068244, ' Self-emp-not-inc': 0.07879403195903593, ' Local-gov': 0.06435949501191843, ' State-gov': 0.041273064359495015, ' Federal-gov': 0.025514257967687824, ' Self-emp-inc': 0.020923457226096936, ' Without-pay': 0.0006179924075218504}\n",
            "{' HS-grad': 0.3629822547894412, ' Some-college': 0.23580824578440893, ' Bachelors': 0.12880727465348282, ' 11th': 0.043656749359936436, ' Assoc-voc': 0.04250904917453871, ' 10th': 0.03359230158029487, ' Assoc-acdm': 0.03319502074688797, ' Masters': 0.03129690120949943, ' 7th-8th': 0.023042288337600424, ' 9th': 0.018981195373885408, ' 12th': 0.015361525558400282, ' 5th-6th': 0.012183278891145052, ' 1st-4th': 0.006400635649333451, ' Prof-school': 0.0060033548159265475, ' Doctorate': 0.004193519908183985, ' Preschool': 0.0019864041670345192}\n",
            "{' Never-married': 0.4085812660015891, ' Married-civ-spouse': 0.3383949854330361, ' Divorced': 0.16606338836408582, ' Separated': 0.03853624084046967, ' Widowed': 0.03297430917277302, ' Married-spouse-absent': 0.01496424472499338, ' Married-AF-spouse': 0.00048556546305288247}\n",
            "{' Adm-clerical': 0.14227068067449458, ' Craft-repair': 0.13781230687737264, ' Other-service': 0.1359583296548071, ' Sales': 0.11538801094729408, ' Prof-specialty': 0.09830493511079721, ' Exec-managerial': 0.09071245696124305, ' Machine-op-inspct': 0.07596892381036462, ' Handlers-cleaners': 0.055928312880727464, ' Transport-moving': 0.05531032047320562, ' Farming-fishing': 0.038580383155292663, ' Tech-support': 0.027986227597775228, ' Protective-serv': 0.019157764633177365, ' Priv-house-serv': 0.006268208704864483, ' Armed-Forces': 0.00035313851858391455}\n",
            "{' Not-in-family': 0.30471439922309523, ' Husband': 0.29946146375915955, ' Own-child': 0.19431446985079898, ' Unmarried': 0.13238280215414497, ' Other-relative': 0.03769753685883288, ' Wife': 0.03142932815396839}\n",
            "{' White': 0.842853359230158, ' Black': 0.10819281363114681, ' Asian-Pac-Islander': 0.028560077690474087, ' Amer-Indian-Eskimo': 0.011123863335393308, ' Other': 0.009269886112827757}\n",
            "{' Male': 0.6172861304846826, ' Female': 0.3827138695153174}\n",
            "{' United-States': 0.9053147347046879, ' Mexico': 0.025470115652864837, ' Philippines': 0.005650216297342633, ' Puerto-Rico': 0.004281804537829964, ' El-Salvador': 0.004016950648892028, ' Germany': 0.003707954445131103, ' Canada': 0.0031341043524322413, ' Jamaica': 0.0030899620376092524, ' Cuba': 0.0029575350931402844, ' Dominican-Republic': 0.0028692504634943057, ' Guatemala': 0.002648538889379359, ' India': 0.002648538889379359, ' Vietnam': 0.0026043965745563696, ' South': 0.002516111944910391, ' England': 0.0024719696300874016, ' Columbia': 0.0023836850004414233, ' China': 0.0021188311115034873, ' Poland': 0.0019864041670345192, ' Italy': 0.0019422618522115299, ' Haiti': 0.001677407963273594, ' Japan': 0.0015891233336276153, ' Nicaragua': 0.0013684117595126688, ' Portugal': 0.0013242694446896795, ' Peru': 0.0012359848150437008, ' Iran': 0.0010594155557517436, ' Ecuador': 0.0010152732409287543, ' Taiwan': 0.0010152732409287543, ' Greece': 0.0009269886112827757, ' Ireland': 0.000838703981636797, ' Trinadad&Tobago': 0.0007062770371678291, ' Laos': 0.0006621347223448397, ' France': 0.0006621347223448397, ' Thailand': 0.0006179924075218504, ' Outlying-US(Guam-USVI-etc)': 0.0006179924075218504, ' Hong': 0.0005738500926988612, ' Honduras': 0.00048556546305288247, ' Cambodia': 0.00048556546305288247, ' Yugoslavia': 0.0004414231482298932, ' Hungary': 0.0004414231482298932, ' Scotland': 0.00039728083340690384, ' Holand-Netherlands': 4.414231482298932e-05}\n",
            " >50K\n",
            "{' Private': 0.6494405966968567, ' Self-emp-not-inc': 0.09509856153436334, ' Local-gov': 0.0811134789557805, ' Self-emp-inc': 0.07991475759190197, ' Federal-gov': 0.048614810868407035, ' State-gov': 0.04581779435269046}\n",
            "{' Bachelors': 0.28316462440063933, ' HS-grad': 0.2153702717101758, ' Some-college': 0.17794352690463505, ' Masters': 0.12226957911561001, ' Prof-school': 0.054075652637187, ' Assoc-voc': 0.04581779435269046, ' Doctorate': 0.03729355354288759, ' Assoc-acdm': 0.034096963239211506, ' 10th': 0.007858284496537027, ' 11th': 0.007858284496537027, ' 7th-8th': 0.004661694192860949, ' 12th': 0.0038625466169419287, ' 9th': 0.0033297815663292487, ' 5th-6th': 0.0015982951518380393, ' 1st-4th': 0.0007991475759190197}\n",
            "{' Married-civ-spouse': 0.8522908897176346, ' Never-married': 0.06259989344698988, ' Divorced': 0.06020245071923282, ' Widowed': 0.010655301012253596, ' Separated': 0.008790623335109217, ' Married-spouse-absent': 0.004128929142248269, ' Married-AF-spouse': 0.0013319126265316996}\n",
            "{' Exec-managerial': 0.2579914757591902, ' Prof-specialty': 0.24120937666489078, ' Sales': 0.12919552477357485, ' Craft-repair': 0.12093766648907832, ' Adm-clerical': 0.06632924880127863, ' Transport-moving': 0.04248801278636122, ' Tech-support': 0.03702717101758125, ' Machine-op-inspct': 0.03263185935002664, ' Protective-serv': 0.02797016515716569, ' Other-service': 0.017581246670218435, ' Farming-fishing': 0.015316995205114545, ' Handlers-cleaners': 0.011054874800213107, ' Armed-Forces': 0.00013319126265316994, ' Priv-house-serv': 0.00013319126265316994}\n",
            "{' Husband': 0.7563931806073522, ' Not-in-family': 0.10961640916355887, ' Wife': 0.09243473628129995, ' Unmarried': 0.0283697389451252, ' Own-child': 0.008524240809802876, ' Other-relative': 0.004661694192860949}\n",
            "{' White': 0.9108950452850293, ' Black': 0.0487480021310602, ' Asian-Pac-Islander': 0.03303143313798615, ' Amer-Indian-Eskimo': 0.004528502930207778, ' Other': 0.002797016515716569}\n",
            "{' Male': 0.851891315929675, ' Female': 0.148108684070325}\n",
            "{' United-States': 0.9316728822589239, ' Philippines': 0.007991475759190196, ' Germany': 0.005860415556739478, ' India': 0.005327650506126798, ' Canada': 0.004794885455514118, ' Mexico': 0.004395311667554609, ' England': 0.003995737879595098, ' Cuba': 0.0033297815663292487, ' Italy': 0.0031965903036760787, ' Japan': 0.003063399041022909, ' China': 0.002663825253063399, ' Taiwan': 0.002530633990410229, ' Iran': 0.002397442727757059, ' South': 0.0018646776771443793, ' France': 0.0015982951518380393, ' Puerto-Rico': 0.0015982951518380393, ' Poland': 0.0014651038891848695, ' Jamaica': 0.0013319126265316996, ' El-Salvador': 0.0011987213638785296, ' Greece': 0.0010655301012253596, ' Cambodia': 0.0009323388385721897, ' Hong': 0.0007991475759190197, ' Yugoslavia': 0.0007991475759190197, ' Ireland': 0.0006659563132658498, ' Vietnam': 0.0006659563132658498, ' Portugal': 0.0005327650506126798, ' Ecuador': 0.0005327650506126798, ' Haiti': 0.0005327650506126798, ' Thailand': 0.00039957378795950983, ' Guatemala': 0.00039957378795950983, ' Hungary': 0.00039957378795950983, ' Trinadad&Tobago': 0.0002663825253063399, ' Peru': 0.0002663825253063399, ' Columbia': 0.0002663825253063399, ' Dominican-Republic': 0.0002663825253063399, ' Laos': 0.0002663825253063399, ' Scotland': 0.0002663825253063399, ' Nicaragua': 0.0002663825253063399, ' Honduras': 0.00013319126265316994}\n"
          ],
          "name": "stdout"
        }
      ]
    },
    {
      "cell_type": "markdown",
      "metadata": {
        "id": "4qY2HMmctWDn"
      },
      "source": [
        "# Log Posterior\n",
        "This part is about the calculation of the final 2 values that will determine whether the row belong to Class_<=50k or Class>50K. For each row we calculate the density value (gauss function) for the continues features and at the same time based on the value for the specific feature we take the corresponding density value we calculated. All the above values are combined into two final products, including the priors. We log them to get the log-posteriors for our 2 classes. \n",
        "\n",
        "In a few words we produced 2 metrics as representatives of each class. These metrics shows as how possible is our value to belong in each class. Finally, we are going to compare these metrics and if the representative of the Class(<=50K) is bigger than the representative of the Class(>50K) then the row belongs to the first Class, or the other way around."
      ]
    },
    {
      "cell_type": "code",
      "metadata": {
        "id": "-StC3OBOZ8La",
        "colab": {
          "base_uri": "https://localhost:8080/"
        },
        "outputId": "62634fe3-23f8-4376-ce62-e2431d09ab15"
      },
      "source": [
        "import math\n",
        "import operator\n",
        "#function that omputes the gauss distribution \n",
        "def gauss_f(x,s,m):\n",
        "  return 1/(math.sqrt(2*math.pi)*s)*math.exp(-(((x-m)**2)/(2*(s**2)) ) )\n",
        "\n",
        "#A functions that calculate the log-posterior and return the prediction\n",
        "def Log_Posterior(classes,df,totals,cols,discrete_features,continue_features,values,probs,μ,σ,priors_dict):\n",
        "  \n",
        "  products_={}\n",
        "  for c in classes:\n",
        "    products_[c]=priors_dict[c]\n",
        "    for i in range(len(cols)-1):\n",
        "      if cols[i] in discrete_features:\n",
        "        #if the feature is a discrete we calculate the density function based on the probabilities we calculated for every value of every feature\n",
        "        if values[i] in probs[c][discrete_features.index(cols[i])].keys():\n",
        "          products_[c]*=probs[c][discrete_features.index(cols[i])][values[i]]\n",
        "        else:\n",
        "          #if a prob=0 then we apply the m-estimation technique\n",
        "          products_[c]*=1/(totals[c]+df[cols[i]].nunique())  \n",
        "      elif cols[i] in  continue_features:\n",
        "        #if the feature is a continue we calculate the gauss with the appropriate μ,σ   \n",
        "        products_[c]*=gauss_f(values[i],σ[c][cols[i]],μ[c][cols[i]])\n",
        "  #find the max in the dictionary in order to return the prediction\n",
        "  max_key=max(products_.items(), key=operator.itemgetter(1))[0]\n",
        "  return max_key\n",
        "\n",
        "#total rows of each class\n",
        "totals={}\n",
        "for c in classes:\n",
        "  totals[c]=int(data_df['salary'].where(data_df['salary']==c).value_counts())\n",
        "print()"
      ],
      "execution_count": 60,
      "outputs": [
        {
          "output_type": "stream",
          "text": [
            "\n"
          ],
          "name": "stdout"
        }
      ]
    },
    {
      "cell_type": "markdown",
      "metadata": {
        "id": "GZdc2ddAROnP"
      },
      "source": [
        "# Predictions\n",
        "\n",
        "This section creates the prediction column, using the functions above. It also prints how many rows predicted correct from the Train set as well as from the test set (compared with the total rows)."
      ]
    },
    {
      "cell_type": "code",
      "metadata": {
        "colab": {
          "base_uri": "https://localhost:8080/"
        },
        "id": "I2oq-8qG0yXY",
        "outputId": "cb5d27c6-1f8c-4ffd-e476-5bd9ac2f30c7"
      },
      "source": [
        "# Final class that creates and extra column for the predictions made\n",
        "def my_predictions(classes,df,totals,discrete_features,continue_features,probs,μ,σ,priors_dict):\n",
        "  df['prediction']=df.apply(lambda row:Log_Posterior(classes,df,totals,df.columns.values.tolist(),discrete_features,continue_features,row.values.tolist(),probs,μ,σ,priors_dict),axis=1)\n",
        "#predict for train set\n",
        "my_predictions(classes,data_df,totals,discrete_features,continue_features,probs,μ,σ,priors_dict)\n",
        "#predict for test set\n",
        "my_predictions(classes,test_df,totals,discrete_features,continue_features,probs,μ,σ,priors_dict)\n",
        "\n",
        "#gather the correct predictions for the train set\n",
        "corrects_train=len(data_df[data_df['prediction']==data_df['salary']])\n",
        "print(\"Train set correct predictions: \",corrects_train,\"/\",data_df.shape[0])\n",
        "\n",
        "#gather the correct predictions for the test set\n",
        "corrects_test=len(test_df[test_df['prediction']==test_df['salary']])\n",
        "print(\"Test set correct predictions: \",corrects_test,\"/\",test_df.shape[0])\n"
      ],
      "execution_count": 61,
      "outputs": [
        {
          "output_type": "stream",
          "text": [
            "Train set correct predictions:  24959 / 30162\n",
            "Test set correct predictions:  12414 / 15060\n"
          ],
          "name": "stdout"
        }
      ]
    },
    {
      "cell_type": "code",
      "metadata": {
        "id": "f-lCxcnuuizy",
        "colab": {
          "base_uri": "https://localhost:8080/"
        },
        "outputId": "c49a41c9-655c-408e-fc07-a7e23d464202"
      },
      "source": [
        "#A quick check that the prediction column was created fine\n",
        "test_df.head(10)\n",
        "print(test_df)"
      ],
      "execution_count": 36,
      "outputs": [
        {
          "output_type": "stream",
          "text": [
            "            age      workclass    fnlwgt  ...  native-country  salary prediction\n",
            "0     -1.029005        Private  0.352098  ...   United-States   <=50K      <=50K\n",
            "1     -0.057423        Private -0.944995  ...   United-States   <=50K      <=50K\n",
            "2     -0.804794      Local-gov  1.395062  ...   United-States    >50K       >50K\n",
            "3      0.391000        Private -0.277369  ...   United-States    >50K      <=50K\n",
            "5     -0.356371        Private  0.085944  ...   United-States   <=50K      <=50K\n",
            "...         ...            ...       ...  ...             ...     ...        ...\n",
            "16275 -0.431108        Private  0.526407  ...   United-States   <=50K      <=50K\n",
            "16276  0.017315        Private  0.244316  ...   United-States   <=50K      <=50K\n",
            "16278 -0.057423        Private  1.755175  ...   United-States   <=50K       >50K\n",
            "16279  0.391000        Private -1.001078  ...   United-States   <=50K      <=50K\n",
            "16280 -0.281634   Self-emp-inc -0.070716  ...   United-States    >50K       >50K\n",
            "\n",
            "[15060 rows x 16 columns]\n"
          ],
          "name": "stdout"
        }
      ]
    },
    {
      "cell_type": "markdown",
      "metadata": {
        "id": "HzKga2246LBq"
      },
      "source": [
        "# Evaluation\n",
        "Export the needed data to the requested files."
      ]
    },
    {
      "cell_type": "code",
      "metadata": {
        "id": "PY-5z5Ak6eCy"
      },
      "source": [
        "#create the file with the estimators\n",
        "f = open(\"nb_parameters.txt\", \"w\")\n",
        "f.write(\"Priors Probabilities:\\n\")\n",
        "for k,v in priors_dict.items():\n",
        "  f.write(str(k)+\"->\"+str(v)+\"\\n\")\n",
        "  \n",
        "f.write(\"\\n\\nEstimator μ\\n\")\n",
        "for k,v in μ.items():\n",
        "  f.write(str(k)+\"->\"+str(v)+\"\\n\")\n",
        "\n",
        "f.write(\"\\n\\nEstimator σ\\n\")  \n",
        "for k,v in σ.items():\n",
        "  f.write(str(k)+\"->\"+str(v)+\"\\n\")  \n",
        "\n",
        "f.write(\"\\n\\nDensity of discrete features\\n\")  \n",
        "for k,v in probs.items():\n",
        "  f.write(\"\\n\"+str(k)+\"\\n\")\n",
        "  for i in range(len(v)):\n",
        "    f.write(\"\\t\"+discrete_features[i]+\"\\n\")\n",
        "    for k2,v2 in v[i].items():\n",
        "      f.write(\"\\t\\t\"+str(k2)+\":\"+str(v2)+\"\\n\")\n",
        "f.close()"
      ],
      "execution_count": 68,
      "outputs": []
    },
    {
      "cell_type": "code",
      "metadata": {
        "id": "ULcXNZwyDIYC"
      },
      "source": [
        "\n",
        "#create the file with the predictions only for test set\n",
        "test_df['prediction'].apply(lambda x:0 if x==\" <=50K\" else 1).to_csv('predictions.txt',index=False)\n",
        "\n"
      ],
      "execution_count": 69,
      "outputs": []
    },
    {
      "cell_type": "code",
      "metadata": {
        "id": "VB-0Gg__s9T8"
      },
      "source": [
        "f = open(\"classification.txt\", \"w\")\n",
        "\n",
        "f.write(\"Train set correct predictions: \"+str(corrects_train)+\"/\"+str(data_df.shape[0])+\"\\n\")\n",
        "f.write(\"Train set wrong predictions(error): \"+str(data_df.shape[0]-corrects_train)+\"/\"+str(data_df.shape[0])+\"\\n\")\n",
        "f.write(\"Test set accuracy: \"+str(corrects_train/data_df.shape[0]*100)+\"%\\n\\n\")\n",
        "\n",
        "f.write(\"Test set correct predictions: \"+str(corrects_test)+\"/\"+str(test_df.shape[0])+\"\\n\")\n",
        "f.write(\"Test set wrong predictions(error): \"+str(test_df.shape[0]-corrects_test)+\"/\"+str(test_df.shape[0])+\"\\n\")\n",
        "f.write(\"Test set accuracy: \"+str(corrects_test/test_df.shape[0]*100)+\"%\\n\")\n",
        "f.close()"
      ],
      "execution_count": 70,
      "outputs": []
    },
    {
      "cell_type": "code",
      "metadata": {
        "colab": {
          "base_uri": "https://localhost:8080/"
        },
        "id": "uoVvjhwGHaoU",
        "outputId": "b910324f-0507-4068-f540-ebe783fcb073"
      },
      "source": [
        "#a test to see the tp,fp,fn,tn \n",
        "tp = len(data_df[(data_df['salary']==\" <=50K\") & (data_df['prediction']==\" <=50K\")])\n",
        "fp = len(data_df[(data_df['salary']==\" >50K\") & (data_df['prediction']==\" <=50K\")])\n",
        "fn = len(data_df[(data_df['salary']==\" <=50K\") & (data_df['prediction']==\" >50K\")])\n",
        "tn = len(data_df[(data_df['salary']==\" >50K\") & (data_df['prediction']==\" >50K\")])\n",
        "\n",
        "print(tp,fp,fn,tn)"
      ],
      "execution_count": 71,
      "outputs": [
        {
          "output_type": "stream",
          "text": [
            "21103 3652 1551 3856\n"
          ],
          "name": "stdout"
        }
      ]
    },
    {
      "cell_type": "code",
      "metadata": {
        "colab": {
          "base_uri": "https://localhost:8080/",
          "height": 325
        },
        "id": "fFMv1GHtrrj0",
        "outputId": "f38854f4-92ee-47c9-dde3-9a7294a7b325"
      },
      "source": [
        "import matplotlib.pyplot as plt\n",
        "import seaborn as sns\n",
        "\n",
        "from sklearn.datasets import make_classification\n",
        "from sklearn.metrics import confusion_matrix\n",
        "\n",
        "#the classification errors for train\n",
        "cm = confusion_matrix(data_df['salary'], data_df['prediction'])\n",
        "\n",
        "class_names=[0,1] # name  of classes\n",
        "fig, ax = plt.subplots()\n",
        "# create heatmap\n",
        "sns.heatmap(pd.DataFrame(cm), annot=True, fmt='g')\n",
        "ax.xaxis.set_label_position(\"top\")\n",
        "plt.tight_layout()\n",
        "plt.title('Confusion matrix for TRAIN', y=1.1)\n",
        "plt.ylabel('Actual label')\n",
        "plt.xlabel('Predicted label')\n",
        "plt.savefig('confusion_matrix_data.eps', dpi = 300)"
      ],
      "execution_count": 72,
      "outputs": [
        {
          "output_type": "display_data",
          "data": {
            "image/png": "[encoded data removed]",
            "text/plain": [
              "<Figure size 432x288 with 2 Axes>"
            ]
          },
          "metadata": {
            "tags": [],
            "needs_background": "light"
          }
        }
      ]
    },
    {
      "cell_type": "code",
      "metadata": {
        "colab": {
          "base_uri": "https://localhost:8080/",
          "height": 325
        },
        "id": "a4WH59d1tIBO",
        "outputId": "acea2d47-1c5c-4cce-edd2-0b1e5c25cf5a"
      },
      "source": [
        "#the classification errors for test\n",
        "cm = confusion_matrix(test_df['salary'], test_df['prediction'])\n",
        "\n",
        "class_names=[0,1] # name  of classes\n",
        "fig, ax = plt.subplots()\n",
        "# create heatmap\n",
        "sns.heatmap(pd.DataFrame(cm), annot=True, fmt='g')\n",
        "ax.xaxis.set_label_position(\"top\")\n",
        "plt.tight_layout()\n",
        "plt.title('Confusion matrix for TEST', y=1.1)\n",
        "plt.ylabel('Actual label')\n",
        "plt.xlabel('Predicted label')\n",
        "plt.savefig('confusion_matrix_test.eps', dpi = 300)"
      ],
      "execution_count": 73,
      "outputs": [
        {
          "output_type": "display_data",
          "data": {
            "image/png": "[encoded data removed]",
            "text/plain": [
              "<Figure size 432x288 with 2 Axes>"
            ]
          },
          "metadata": {
            "tags": [],
            "needs_background": "light"
          }
        }
      ]
    }
  ]
}